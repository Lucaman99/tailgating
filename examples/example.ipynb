{
 "cells": [
  {
   "cell_type": "markdown",
   "metadata": {},
   "source": [
    "# PennyLane Tailgating Demo\n",
    "A numerical example, demonstrating the tailgating procedure in the case of computing derivatives of a molecular energy function with respect to some set of nuclear coordinates."
   ]
  },
  {
   "cell_type": "code",
   "execution_count": 45,
   "metadata": {},
   "outputs": [
    {
     "name": "stdout",
     "output_type": "stream",
     "text": [
      "The autoreload extension is already loaded. To reload it, use:\n",
      "  %reload_ext autoreload\n"
     ]
    }
   ],
   "source": [
    "%load_ext autoreload\n",
    "%autoreload 2\n",
    "import tailgating as tg\n",
    "import pennylane as qml\n",
    "import pennylane.numpy as np\n",
    "from pennylane import qchem\n",
    "import scipy\n",
    "from tqdm.notebook import tqdm\n",
    "import autohf as hf\n",
    "import copy\n",
    "import itertools"
   ]
  },
  {
   "cell_type": "markdown",
   "metadata": {},
   "source": [
    "### Step 1. Performing ADAPT-VQE\n",
    "\n",
    "In this Notebook, we will attempt to compute the normal mode frequencies of a BeH$_2$ molecule. We begin by declaring some basic information about the molecule:"
   ]
  },
  {
   "cell_type": "code",
   "execution_count": 2,
   "metadata": {},
   "outputs": [],
   "source": [
    "# Basic information\n",
    "symbols = [\"Be\", \"H\", \"H\"]\n",
    "geometry = tg.angs_bohr * np.array([\n",
    "    [0.0000000000, 0.000000000, 0.0000000000], \n",
    "    [0.0000000000, -1.31642901431, 0.0000000000], \n",
    "    [0.0000000000, 1.3164290143, 0.0000000000]\n",
    "])\n",
    "\n",
    "# Specifies the electrons and orbitals\n",
    "electrons, active_electrons = 6, 4\n",
    "orbitals, active_orbitals = 7, 6\n",
    "wires = list(range(2 * active_orbitals))\n",
    "\n",
    "# Defines the molecule and the active space\n",
    "core, active = qchem.active_space(electrons, orbitals, active_electrons=4, active_orbitals=6)"
   ]
  },
  {
   "cell_type": "markdown",
   "metadata": {},
   "source": [
    "We can put all of this information inside of a class, representing the molecule:"
   ]
  },
  {
   "cell_type": "code",
   "execution_count": 3,
   "metadata": {
    "tags": []
   },
   "outputs": [],
   "source": [
    "class BeH2:\n",
    "\n",
    "    basis_name = \"sto-3g\"\n",
    "    symbols = symbols\n",
    "    active_electrons = active_electrons\n",
    "    active_orbitals = active_orbitals\n",
    "    charge = 0\n",
    "    multiplicity = 1\n",
    "    \n",
    "    geometry = geometry\n",
    "\n",
    "mol = BeH2()"
   ]
  },
  {
   "cell_type": "markdown",
   "metadata": {},
   "source": [
    "We will compare calculations done with ADAPT-VQE, with and without the tailgating procedure, and demonstrate that the non-tailgated circuit yields inaccurate derivatives while those yielded from tailgating are highly accurate. The first step is to perform ADAPT-VQE, using a gate pool of single and double excitations to get our initial circuit, for preparing ground states:"
   ]
  },
  {
   "cell_type": "code",
   "execution_count": 4,
   "metadata": {},
   "outputs": [
    {
     "data": {
      "application/vnd.jupyter.widget-view+json": {
       "model_id": "39ac58642d0c4096a3d1455fc3503aa7",
       "version_major": 2,
       "version_minor": 0
      },
      "text/plain": [
       "  0%|          | 0/100 [00:00<?, ?it/s]"
      ]
     },
     "metadata": {},
     "output_type": "display_data"
    }
   ],
   "source": [
    "# Generates the gate pool to use for ADAPT-VQE\n",
    "gate_pool = tg.batch_gate_pool(mol)\n",
    "\n",
    "# Generates the sparse molecular Hamiltonian (used in the VQE simulations)\n",
    "H = hf.sparse_H(mol, wires)(mol.geometry)\n",
    "\n",
    "# Other information: the device, Hartree-Fock state, optimizer, and numbers of optimization steps\n",
    "dev = qml.device('default.qubit', wires=wires)\n",
    "hf_state = qchem.hf_state(active_electrons, 2 * active_orbitals)\n",
    "optimizer = qml.GradientDescentOptimizer(stepsize=0.3)\n",
    "vqe_steps = 100\n",
    "\n",
    "# Performs a batched ADAPT-VQE procedure, applying all double excitations in the gate pool, then all single excitations\n",
    "original_seq, original_params = tg.batch_adapt_vqe(H, dev, gate_pool, hf_state, optimizer, vqe_steps, bar=True, sparse=True)"
   ]
  },
  {
   "cell_type": "markdown",
   "metadata": {},
   "source": [
    "We can then build the circuit that we use for VQE."
   ]
  },
  {
   "cell_type": "code",
   "execution_count": 5,
   "metadata": {},
   "outputs": [],
   "source": [
    "# Circuit yielded from ADAPT-VQE\n",
    "def circuit(params):\n",
    "    qml.BasisState(hf_state, wires=wires)\n",
    "    for p, gate in zip(params, original_seq):\n",
    "        gate(p)\n",
    "\n",
    "# Circuit that returns state vector\n",
    "@qml.qnode(dev)\n",
    "def state_circuit(params):\n",
    "    circuit(params)\n",
    "    return qml.state()"
   ]
  },
  {
   "cell_type": "markdown",
   "metadata": {},
   "source": [
    "Then, we can perform VQE to attempt to find the ground state of the molecule:"
   ]
  },
  {
   "cell_type": "code",
   "execution_count": 6,
   "metadata": {},
   "outputs": [
    {
     "data": {
      "application/vnd.jupyter.widget-view+json": {
       "model_id": "4858b394f11147faa4c52f75f4ae7ccc",
       "version_major": 2,
       "version_minor": 0
      },
      "text/plain": [
       "  0%|          | 0/100 [00:00<?, ?it/s]"
      ]
     },
     "metadata": {},
     "output_type": "display_data"
    }
   ],
   "source": [
    "energy, params = tg.vqe(circuit, H, dev, optimizer, 100, original_params, sparse=True)"
   ]
  },
  {
   "cell_type": "markdown",
   "metadata": {},
   "source": [
    "Since we are working with a simulator, we have direct access to the state vector, and can determine how close our approxiamte ground state (yielded from VQE) is to the true ground state of the Hamiltonian (we compute the exact ground state through exact diagonalization):"
   ]
  },
  {
   "cell_type": "code",
   "execution_count": 7,
   "metadata": {},
   "outputs": [
    {
     "name": "stdout",
     "output_type": "stream",
     "text": [
      "0.9998450120873879\n"
     ]
    }
   ],
   "source": [
    "# State vector yielded from ADAPT-VQE circuit\n",
    "state = tg.compute_state(circuit, dev, params)\n",
    "\n",
    "# Returns the dot product between the true ground state of H and the prepared ground state\n",
    "print(abs(np.dot(np.linalg.eigh(H.matrix())[1].T[0], state)))"
   ]
  },
  {
   "cell_type": "markdown",
   "metadata": {},
   "source": [
    "As can be seen, the magnitude of the dot product is very close to one, implying that the prepared state is very close to the true ground state. However, as we will soon demonstrate, this does not necessarily mean that our circuit will yield accurate energy derivatives."
   ]
  },
  {
   "cell_type": "markdown",
   "metadata": {},
   "source": [
    "### Step 2. Computing the energy derivative with the non-tailgated circuit"
   ]
  },
  {
   "cell_type": "markdown",
   "metadata": {},
   "source": [
    "The next step is to calculate the second-order energy derivative using the non-tailgated circuit. Recall that the formula for such a derivative is given by:\n",
    "\n",
    "$$\n",
    "\\frac{\\partial^2 E_k(\\textbf{R})}{\\partial R_i \\partial R_j} = \\displaystyle\\sum_{a} \\Big[ \\frac{\\partial \\boldsymbol\\theta^{k}_a(\\textbf{R})}{\\partial R_i} \\frac{\\partial}{\\partial \\theta_a} \\frac{\\partial E_k(\\textbf{R})}{\\partial R_j} \\Big] + \\Big\\langle \\psi_{k}(\\boldsymbol\\theta^{k}(\\textbf{R})) \\Big| \\frac{\\partial^2 H(\\textbf{R})}{\\partial R_i \\partial R_j} \\Big| \\psi_{k}(\\boldsymbol\\theta^{k}(\\textbf{R})) \\Big\\rangle\n",
    "$$\n",
    "\n",
    "where $|\\psi_k(\\theta)\\rangle = U_k(\\theta) |0\\rangle$ is a variational ansatz which is used to prepare the $k$-th excited state, and $\\boldsymbol{\\theta}^k(\\textbf{R})$ are the variational parameters of $U_k(\\theta)$ which prepare the $k$-th energy eigenstate at coordinates $\\textbf{R}$. In addition, by Feynman-Hellmann theorem, we have\n",
    "\n",
    "$$\n",
    "\\frac{\\partial E_k(\\textbf{R})}{\\partial R_j} = \\Big\\langle \\psi_k( \\boldsymbol\\theta^{k}(\\textbf{R})) \\Big| \\frac{\\partial H(\\textbf{R})}{\\partial R_j} \\Big| \\psi_k(\\boldsymbol\\theta^{k}(\\textbf{R})) \\Big\\rangle\n",
    "$$\n",
    "\n",
    "Finally, we can determine the derivatives of the optimal parameters $\\boldsymbol{\\theta}^{k}$ with the response equation:\n",
    "\n",
    "$$\n",
    "\\displaystyle\\sum_{a} \\frac{\\partial}{\\partial \\theta_b} \\frac{\\partial E_k(\\textbf{R})}{\\partial \\theta_a} \\frac{\\partial \\boldsymbol{\\theta}^{k}_a(\\textbf{R})}{\\partial R_i} = -\\frac{\\partial}{\\partial \\theta_b} \\frac{\\partial E_k(\\textbf{R})}{\\partial R_i}\n",
    "$$\n",
    "\n",
    "We begin by computing the first derivatives of the molecular Hamiltonian:"
   ]
  },
  {
   "cell_type": "code",
   "execution_count": 8,
   "metadata": {},
   "outputs": [
    {
     "data": {
      "application/vnd.jupyter.widget-view+json": {
       "model_id": "9eb91fec7e004ac1abe41c0dc63355fa",
       "version_major": 2,
       "version_minor": 0
      },
      "text/plain": [
       "  0%|          | 0/9 [00:00<?, ?it/s]"
      ]
     },
     "metadata": {},
     "output_type": "display_data"
    },
    {
     "name": "stderr",
     "output_type": "stream",
     "text": [
      "/Users/jackceroni/Library/Python/3.9/lib/python/site-packages/autohf-0.0.1-py3.9.egg/autohf/hartreefock.py:209: RuntimeWarning: divide by zero encountered in true_divide\n"
     ]
    }
   ],
   "source": [
    "# Generates first and second derivatives of the Hamiltonian\n",
    "H1 = hf.generate_d_hamiltonian(mol, wires, bar=True)(geometry.flatten())"
   ]
  },
  {
   "cell_type": "markdown",
   "metadata": {},
   "source": [
    "Next, we compute the matrix of second derivatives (with respect to variational parameters) of the energy function:"
   ]
  },
  {
   "cell_type": "code",
   "execution_count": 9,
   "metadata": {
    "tags": []
   },
   "outputs": [
    {
     "data": {
      "application/vnd.jupyter.widget-view+json": {
       "model_id": "ae82994acc8b422794fe549578f089d1",
       "version_major": 2,
       "version_minor": 0
      },
      "text/plain": [
       "  0%|          | 0/18 [00:00<?, ?it/s]"
      ]
     },
     "metadata": {},
     "output_type": "display_data"
    }
   ],
   "source": [
    "# Non-sparse Hamiltonian for computing second derivatives\n",
    "h_new = hf.H(mol, wires)(geometry.flatten())\n",
    "\n",
    "# Energy function\n",
    "@qml.qnode(dev)\n",
    "def energy_fn(params):\n",
    "    circuit(params)\n",
    "    return qml.expval(h_new)\n",
    "\n",
    "# Parameter Hessian\n",
    "hessian = tg.compute_parameter_hessian(energy_fn, np.array(original_params), bar=True)"
   ]
  },
  {
   "cell_type": "markdown",
   "metadata": {},
   "source": [
    "Finally, we can compute the second derivative of the Hamiltonian, and the desired energy derivative. In particular, we will compute $\\frac{\\partial E}{\\partial R_1^2}$, where $R_1$ is the $y$-coordinate of the Be atom:"
   ]
  },
  {
   "cell_type": "code",
   "execution_count": 10,
   "metadata": {},
   "outputs": [
    {
     "data": {
      "application/vnd.jupyter.widget-view+json": {
       "model_id": "a7a17a88159c4131a11e718b6eeb0486",
       "version_major": 2,
       "version_minor": 0
      },
      "text/plain": [
       "  0%|          | 0/9 [00:00<?, ?it/s]"
      ]
     },
     "metadata": {},
     "output_type": "display_data"
    },
    {
     "name": "stderr",
     "output_type": "stream",
     "text": [
      "/Library/Frameworks/Python.framework/Versions/3.9/lib/python3.9/site-packages/autograd/tracer.py:48: RuntimeWarning: divide by zero encountered in true_divide\n",
      "  return f_raw(*args, **kwargs)\n",
      "/Library/Frameworks/Python.framework/Versions/3.9/lib/python3.9/site-packages/autograd/numpy/numpy_jvps.py:46: RuntimeWarning: invalid value encountered in true_divide\n",
      "  lambda g, ans, x, y : - g * x / y**2)\n"
     ]
    },
    {
     "data": {
      "application/vnd.jupyter.widget-view+json": {
       "model_id": "8dab8133e49f4acaabe49592cb3dbfe8",
       "version_major": 2,
       "version_minor": 0
      },
      "text/plain": [
       "  0%|          | 0/9 [00:00<?, ?it/s]"
      ]
     },
     "metadata": {},
     "output_type": "display_data"
    },
    {
     "data": {
      "application/vnd.jupyter.widget-view+json": {
       "model_id": "0aaa0537c63f45bbafead04d3e5178fe",
       "version_major": 2,
       "version_minor": 0
      },
      "text/plain": [
       "  0%|          | 0/9 [00:00<?, ?it/s]"
      ]
     },
     "metadata": {},
     "output_type": "display_data"
    },
    {
     "data": {
      "application/vnd.jupyter.widget-view+json": {
       "model_id": "1c3b25c9bdd84da789f4d024160279aa",
       "version_major": 2,
       "version_minor": 0
      },
      "text/plain": [
       "  0%|          | 0/9 [00:00<?, ?it/s]"
      ]
     },
     "metadata": {},
     "output_type": "display_data"
    },
    {
     "data": {
      "application/vnd.jupyter.widget-view+json": {
       "model_id": "fd87568e06a340518df26de6cc5eb657",
       "version_major": 2,
       "version_minor": 0
      },
      "text/plain": [
       "  0%|          | 0/9 [00:00<?, ?it/s]"
      ]
     },
     "metadata": {},
     "output_type": "display_data"
    },
    {
     "data": {
      "application/vnd.jupyter.widget-view+json": {
       "model_id": "408808968a86465390e5ce63d9e44627",
       "version_major": 2,
       "version_minor": 0
      },
      "text/plain": [
       "  0%|          | 0/9 [00:00<?, ?it/s]"
      ]
     },
     "metadata": {},
     "output_type": "display_data"
    },
    {
     "data": {
      "application/vnd.jupyter.widget-view+json": {
       "model_id": "29f2e64ae0c5481cbeb6362f72d7dfae",
       "version_major": 2,
       "version_minor": 0
      },
      "text/plain": [
       "  0%|          | 0/9 [00:00<?, ?it/s]"
      ]
     },
     "metadata": {},
     "output_type": "display_data"
    },
    {
     "data": {
      "application/vnd.jupyter.widget-view+json": {
       "model_id": "b9b87461ea654f77914a051f5d601ff1",
       "version_major": 2,
       "version_minor": 0
      },
      "text/plain": [
       "  0%|          | 0/9 [00:00<?, ?it/s]"
      ]
     },
     "metadata": {},
     "output_type": "display_data"
    },
    {
     "data": {
      "application/vnd.jupyter.widget-view+json": {
       "model_id": "926c7be1a57740ca8ced4dec877c61bd",
       "version_major": 2,
       "version_minor": 0
      },
      "text/plain": [
       "  0%|          | 0/9 [00:00<?, ?it/s]"
      ]
     },
     "metadata": {},
     "output_type": "display_data"
    }
   ],
   "source": [
    "# Hamiltonian second derivative\n",
    "H2 = hf.generate_dd_hamiltonian(mol, wires, bar=True)(geometry.flatten())"
   ]
  },
  {
   "cell_type": "code",
   "execution_count": 11,
   "metadata": {},
   "outputs": [
    {
     "data": {
      "application/vnd.jupyter.widget-view+json": {
       "model_id": "804371e58c22404fbf3cf03ac199fa7e",
       "version_major": 2,
       "version_minor": 0
      },
      "text/plain": [
       "  0%|          | 0/9 [00:00<?, ?it/s]"
      ]
     },
     "metadata": {},
     "output_type": "display_data"
    },
    {
     "data": {
      "application/vnd.jupyter.widget-view+json": {
       "model_id": "dd79db16c00b497dbfa873e31865f8c0",
       "version_major": 2,
       "version_minor": 0
      },
      "text/plain": [
       "  0%|          | 0/9 [00:00<?, ?it/s]"
      ]
     },
     "metadata": {},
     "output_type": "display_data"
    },
    {
     "data": {
      "application/vnd.jupyter.widget-view+json": {
       "model_id": "87d4df20ae984aa0b6433efb0afe969c",
       "version_major": 2,
       "version_minor": 0
      },
      "text/plain": [
       "  0%|          | 0/9 [00:00<?, ?it/s]"
      ]
     },
     "metadata": {},
     "output_type": "display_data"
    },
    {
     "data": {
      "application/vnd.jupyter.widget-view+json": {
       "model_id": "93f8ae9c1772439386c5c74e7aec6c29",
       "version_major": 2,
       "version_minor": 0
      },
      "text/plain": [
       "  0%|          | 0/9 [00:00<?, ?it/s]"
      ]
     },
     "metadata": {},
     "output_type": "display_data"
    },
    {
     "data": {
      "application/vnd.jupyter.widget-view+json": {
       "model_id": "a38635c9c36f45639f8b8af2faf2bb19",
       "version_major": 2,
       "version_minor": 0
      },
      "text/plain": [
       "  0%|          | 0/9 [00:00<?, ?it/s]"
      ]
     },
     "metadata": {},
     "output_type": "display_data"
    },
    {
     "data": {
      "application/vnd.jupyter.widget-view+json": {
       "model_id": "1acbc9a22fdc426880b83fc21bf6e77d",
       "version_major": 2,
       "version_minor": 0
      },
      "text/plain": [
       "  0%|          | 0/9 [00:00<?, ?it/s]"
      ]
     },
     "metadata": {},
     "output_type": "display_data"
    },
    {
     "data": {
      "application/vnd.jupyter.widget-view+json": {
       "model_id": "13fb8b05bf8941878c41744215002bdb",
       "version_major": 2,
       "version_minor": 0
      },
      "text/plain": [
       "  0%|          | 0/9 [00:00<?, ?it/s]"
      ]
     },
     "metadata": {},
     "output_type": "display_data"
    },
    {
     "data": {
      "application/vnd.jupyter.widget-view+json": {
       "model_id": "1fd09cf1c2c1497fa6f5b0e198757038",
       "version_major": 2,
       "version_minor": 0
      },
      "text/plain": [
       "  0%|          | 0/9 [00:00<?, ?it/s]"
      ]
     },
     "metadata": {},
     "output_type": "display_data"
    },
    {
     "data": {
      "application/vnd.jupyter.widget-view+json": {
       "model_id": "a5fe4c2c20ba42d094a11f929b237e60",
       "version_major": 2,
       "version_minor": 0
      },
      "text/plain": [
       "  0%|          | 0/9 [00:00<?, ?it/s]"
      ]
     },
     "metadata": {},
     "output_type": "display_data"
    },
    {
     "data": {
      "application/vnd.jupyter.widget-view+json": {
       "model_id": "d65e75ff4bfd46e7a745b1003cf4805c",
       "version_major": 2,
       "version_minor": 0
      },
      "text/plain": [
       "  0%|          | 0/9 [00:00<?, ?it/s]"
      ]
     },
     "metadata": {},
     "output_type": "display_data"
    },
    {
     "data": {
      "application/vnd.jupyter.widget-view+json": {
       "model_id": "c41a715f04424db6bf62dda974dcdc88",
       "version_major": 2,
       "version_minor": 0
      },
      "text/plain": [
       "  0%|          | 0/9 [00:00<?, ?it/s]"
      ]
     },
     "metadata": {},
     "output_type": "display_data"
    }
   ],
   "source": [
    "# Energy derivative\n",
    "non_tailgated_hessian = tg.hessian(H1, H2, circuit, dev, original_params, hessian, bar=True, diff_method=\"best\")"
   ]
  },
  {
   "cell_type": "markdown",
   "metadata": {},
   "source": [
    "We can then compute the normal mode frequencies by simply finding the eigenvectors and eigenvalues of the Hessian:"
   ]
  },
  {
   "cell_type": "code",
   "execution_count": 19,
   "metadata": {},
   "outputs": [
    {
     "name": "stdout",
     "output_type": "stream",
     "text": [
      "Non-tailgated normal mode frequencies = [nan, 4890.568242933075, 2301.175987139119, 978.101347057233, 978.1012531465711, 47.78423310331804, 47.78420182693933, 0.000411140342652434, 1.3819259784933116e-06]\n"
     ]
    },
    {
     "name": "stderr",
     "output_type": "stream",
     "text": [
      "/var/folders/yd/_p7ptfl11dqffr29bbsh4wyw0000gn/T/ipykernel_8612/1753049031.py:33: RuntimeWarning: invalid value encountered in sqrt\n",
      "  f = np.sqrt(vals) * conv\n"
     ]
    }
   ],
   "source": [
    "m = [15.999, 1.00784, 1.00784] # Masses of atoms\n",
    "vecs, vals = tg.vec_vals(non_tailgated_hessian, m) # Normal modes and frequencies\n",
    "\n",
    "print(\"Non-tailgated normal mode frequencies = {}\".format([float(x) for x in vals]))"
   ]
  },
  {
   "cell_type": "markdown",
   "metadata": {},
   "source": [
    "### Step 3. Performing tailgated ADAPT-VQE"
   ]
  },
  {
   "cell_type": "markdown",
   "metadata": {},
   "source": [
    "We will now demonstrate that tailgating yields the correct frequencies. We perform the tailgating procedure, as is described in the paper:"
   ]
  },
  {
   "cell_type": "code",
   "execution_count": 22,
   "metadata": {},
   "outputs": [],
   "source": [
    "# Defines a flat version of the gate pool of single and double excitations\n",
    "flat_gate_pool = gate_pool[0]\n",
    "flat_gate_pool.extend(gate_pool[1])"
   ]
  },
  {
   "cell_type": "code",
   "execution_count": 47,
   "metadata": {
    "tags": []
   },
   "outputs": [
    {
     "data": {
      "application/vnd.jupyter.widget-view+json": {
       "model_id": "9f56d8e7536345759d993ef2639ea764",
       "version_major": 2,
       "version_minor": 0
      },
      "text/plain": [
       "  0%|          | 0/124 [00:00<?, ?it/s]"
      ]
     },
     "metadata": {},
     "output_type": "display_data"
    },
    {
     "data": {
      "application/vnd.jupyter.widget-view+json": {
       "model_id": "34c246a86cad451fb2037f877ee3d43b",
       "version_major": 2,
       "version_minor": 0
      },
      "text/plain": [
       "  0%|          | 0/108 [00:00<?, ?it/s]"
      ]
     },
     "metadata": {},
     "output_type": "display_data"
    },
    {
     "data": {
      "application/vnd.jupyter.widget-view+json": {
       "model_id": "8c9dd090fa4048b590d000240e371322",
       "version_major": 2,
       "version_minor": 0
      },
      "text/plain": [
       "  0%|          | 0/84 [00:00<?, ?it/s]"
      ]
     },
     "metadata": {},
     "output_type": "display_data"
    },
    {
     "data": {
      "application/vnd.jupyter.widget-view+json": {
       "model_id": "f422ce21a2c645a38da798c3780037e7",
       "version_major": 2,
       "version_minor": 0
      },
      "text/plain": [
       "  0%|          | 0/68 [00:00<?, ?it/s]"
      ]
     },
     "metadata": {},
     "output_type": "display_data"
    },
    {
     "data": {
      "application/vnd.jupyter.widget-view+json": {
       "model_id": "59ae8e0895204d948ee6b880f41472bd",
       "version_major": 2,
       "version_minor": 0
      },
      "text/plain": [
       "  0%|          | 0/68 [00:00<?, ?it/s]"
      ]
     },
     "metadata": {},
     "output_type": "display_data"
    },
    {
     "data": {
      "application/vnd.jupyter.widget-view+json": {
       "model_id": "fcd466ab318e4b4aa731d7b354a31ba8",
       "version_major": 2,
       "version_minor": 0
      },
      "text/plain": [
       "  0%|          | 0/42 [00:00<?, ?it/s]"
      ]
     },
     "metadata": {},
     "output_type": "display_data"
    }
   ],
   "source": [
    "# Performs the tailgating procedure\n",
    "hamiltonians = [H1[0], H1[1], H1[2], H1[3], H1[4], H1[5]]\n",
    "\n",
    "# A method for tailgating a circuit\n",
    "def tailgate(dH, dev, circuit, operator_pool, params, tol=1e-6):\n",
    "    \"\"\"Performs the tail-gating procedure\"\"\"\n",
    "    gates = []\n",
    "    bar = tqdm(operator_pool)\n",
    "    n = []\n",
    "\n",
    "    for op in bar:\n",
    "        @qml.qnode(dev)\n",
    "        def cost_fn(param):\n",
    "            circuit(params)\n",
    "            op(param[0])\n",
    "            return qml.expval(dH)\n",
    "        gr = qml.grad(cost_fn)(np.array([0.0]))\n",
    "        if abs(gr) > tol:\n",
    "            gates.append(op)\n",
    "        else:\n",
    "            n.append(op)\n",
    "    return n, gates\n",
    "\n",
    "# Gates added to the circuit through tailgating\n",
    "added_gates = []\n",
    "for dh in hamiltonians:\n",
    "    flat_gate_pool, gates = tailgate(dh, dev, circuit, flat_gate_pool, np.array(original_params))\n",
    "    added_gates.extend(gates)\n",
    "\n",
    "added_gates = set(added_gates)"
   ]
  },
  {
   "cell_type": "markdown",
   "metadata": {},
   "source": [
    "Now, we can construct a new, tailgated circuit:"
   ]
  },
  {
   "cell_type": "code",
   "execution_count": 49,
   "metadata": {},
   "outputs": [],
   "source": [
    "# Creates the new gate pool\n",
    "new_seq = original_seq + list(added_gates)\n",
    "new_params = np.array(list(original_params) + [0.0 for _ in range(len(added_gates))])\n",
    "\n",
    "# Circuit yielded from tailgating\n",
    "def new_circuit(params):\n",
    "    qml.BasisState(hf_state, wires=wires)\n",
    "    for p, gate in zip(params, new_seq):\n",
    "        gate(p)"
   ]
  },
  {
   "cell_type": "markdown",
   "metadata": {},
   "source": [
    "Once again, we compute the molecular Hessian, this time using the tailgated circuit:"
   ]
  },
  {
   "cell_type": "code",
   "execution_count": 50,
   "metadata": {},
   "outputs": [
    {
     "data": {
      "application/vnd.jupyter.widget-view+json": {
       "model_id": "aa0c41b3214b4dd1a0fd31c4b64e00d6",
       "version_major": 2,
       "version_minor": 0
      },
      "text/plain": [
       "  0%|          | 0/76 [00:00<?, ?it/s]"
      ]
     },
     "metadata": {},
     "output_type": "display_data"
    }
   ],
   "source": [
    "# Energy function\n",
    "@qml.qnode(dev)\n",
    "def new_energy_fn(params):\n",
    "    new_circuit(params)\n",
    "    return qml.expval(h_new)\n",
    "\n",
    "# Parameter Hessian\n",
    "new_hessian = tg.compute_parameter_hessian(new_energy_fn, np.array(new_params), bar=True)"
   ]
  },
  {
   "cell_type": "code",
   "execution_count": 51,
   "metadata": {},
   "outputs": [
    {
     "data": {
      "application/vnd.jupyter.widget-view+json": {
       "model_id": "167eb25cb10a4dd2a1f5b22dfe529179",
       "version_major": 2,
       "version_minor": 0
      },
      "text/plain": [
       "  0%|          | 0/9 [00:00<?, ?it/s]"
      ]
     },
     "metadata": {},
     "output_type": "display_data"
    },
    {
     "data": {
      "application/vnd.jupyter.widget-view+json": {
       "model_id": "769282777d7544d283db6a01cbb550cd",
       "version_major": 2,
       "version_minor": 0
      },
      "text/plain": [
       "  0%|          | 0/9 [00:00<?, ?it/s]"
      ]
     },
     "metadata": {},
     "output_type": "display_data"
    },
    {
     "data": {
      "application/vnd.jupyter.widget-view+json": {
       "model_id": "8401aa12070f4f9bb2d4f2e1895e210e",
       "version_major": 2,
       "version_minor": 0
      },
      "text/plain": [
       "  0%|          | 0/9 [00:00<?, ?it/s]"
      ]
     },
     "metadata": {},
     "output_type": "display_data"
    },
    {
     "data": {
      "application/vnd.jupyter.widget-view+json": {
       "model_id": "489cbc1cf43144468ac1ac8fea86d0aa",
       "version_major": 2,
       "version_minor": 0
      },
      "text/plain": [
       "  0%|          | 0/9 [00:00<?, ?it/s]"
      ]
     },
     "metadata": {},
     "output_type": "display_data"
    },
    {
     "data": {
      "application/vnd.jupyter.widget-view+json": {
       "model_id": "60bfe0f3a780476a87c80c23258ea5be",
       "version_major": 2,
       "version_minor": 0
      },
      "text/plain": [
       "  0%|          | 0/9 [00:00<?, ?it/s]"
      ]
     },
     "metadata": {},
     "output_type": "display_data"
    },
    {
     "data": {
      "application/vnd.jupyter.widget-view+json": {
       "model_id": "86b8f83987bd4079a9f6ac1dbef04177",
       "version_major": 2,
       "version_minor": 0
      },
      "text/plain": [
       "  0%|          | 0/9 [00:00<?, ?it/s]"
      ]
     },
     "metadata": {},
     "output_type": "display_data"
    },
    {
     "data": {
      "application/vnd.jupyter.widget-view+json": {
       "model_id": "b659455ef17841839d345fa73d02ce2b",
       "version_major": 2,
       "version_minor": 0
      },
      "text/plain": [
       "  0%|          | 0/9 [00:00<?, ?it/s]"
      ]
     },
     "metadata": {},
     "output_type": "display_data"
    },
    {
     "data": {
      "application/vnd.jupyter.widget-view+json": {
       "model_id": "77bd97cfaa884575a4d3ef5dd72bfbea",
       "version_major": 2,
       "version_minor": 0
      },
      "text/plain": [
       "  0%|          | 0/9 [00:00<?, ?it/s]"
      ]
     },
     "metadata": {},
     "output_type": "display_data"
    },
    {
     "data": {
      "application/vnd.jupyter.widget-view+json": {
       "model_id": "6353a4d28e244578b085d33f539f7477",
       "version_major": 2,
       "version_minor": 0
      },
      "text/plain": [
       "  0%|          | 0/9 [00:00<?, ?it/s]"
      ]
     },
     "metadata": {},
     "output_type": "display_data"
    },
    {
     "data": {
      "application/vnd.jupyter.widget-view+json": {
       "model_id": "90a65fedacd2473dabb399372e8968b7",
       "version_major": 2,
       "version_minor": 0
      },
      "text/plain": [
       "  0%|          | 0/9 [00:00<?, ?it/s]"
      ]
     },
     "metadata": {},
     "output_type": "display_data"
    },
    {
     "data": {
      "application/vnd.jupyter.widget-view+json": {
       "model_id": "9ad11c6a1234435d8bc844fca5b06cf4",
       "version_major": 2,
       "version_minor": 0
      },
      "text/plain": [
       "  0%|          | 0/9 [00:00<?, ?it/s]"
      ]
     },
     "metadata": {},
     "output_type": "display_data"
    }
   ],
   "source": [
    "# Energy derivative\n",
    "tailgated_hessian = tg.hessian(H1, H2, new_circuit, dev, new_params, new_hessian, bar=True, diff_method=\"best\")"
   ]
  },
  {
   "cell_type": "markdown",
   "metadata": {},
   "source": [
    "which gives us the following frequencies:"
   ]
  },
  {
   "cell_type": "code",
   "execution_count": 52,
   "metadata": {},
   "outputs": [
    {
     "name": "stdout",
     "output_type": "stream",
     "text": [
      "Tailgated normal mode frequencies = [nan, 2457.881073140677, 2301.1823938585608, 745.7149476037524, 745.6925286829708, 47.78423310331241, 47.78420182693795, 0.0004110108597292169, 5.418640536228329e-06]\n"
     ]
    },
    {
     "name": "stderr",
     "output_type": "stream",
     "text": [
      "/Library/Frameworks/Python.framework/Versions/3.9/lib/python3.9/site-packages/autograd/tracer.py:48: RuntimeWarning: invalid value encountered in sqrt\n",
      "  return f_raw(*args, **kwargs)\n"
     ]
    }
   ],
   "source": [
    "new_vecs, new_vals = vec_vals(tailgated_hessian, m)\n",
    "\n",
    "print(\"Tailgated normal mode frequencies = {}\".format([float(x) for x in new_vals]))"
   ]
  },
  {
   "cell_type": "markdown",
   "metadata": {},
   "source": [
    "These frequencies, as can be checked, are much closer to the values yielded by GAMESS than the frequencies given by the non-tailgated circuit."
   ]
  },
  {
   "cell_type": "code",
   "execution_count": null,
   "metadata": {},
   "outputs": [],
   "source": []
  }
 ],
 "metadata": {
  "interpreter": {
   "hash": "aee8b7b246df8f9039afb4144a1f6fd8d2ca17a180786b69acc140d282b71a49"
  },
  "kernelspec": {
   "display_name": "Python 3 (ipykernel)",
   "language": "python",
   "name": "python3"
  },
  "language_info": {
   "codemirror_mode": {
    "name": "ipython",
    "version": 3
   },
   "file_extension": ".py",
   "mimetype": "text/x-python",
   "name": "python",
   "nbconvert_exporter": "python",
   "pygments_lexer": "ipython3",
   "version": "3.9.6"
  }
 },
 "nbformat": 4,
 "nbformat_minor": 4
}
