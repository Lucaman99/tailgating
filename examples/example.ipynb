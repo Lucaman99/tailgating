{
 "cells": [
  {
   "cell_type": "markdown",
   "metadata": {},
   "source": [
    "# Tailgating\n",
    "A numerical example, demonstrating the tailgating procedure in the case of computing derivatives of a molecular energy function with respect to some set of nuclear coordinates."
   ]
  },
  {
   "cell_type": "code",
   "execution_count": 6,
   "metadata": {},
   "outputs": [],
   "source": [
    "import tailgating as tg\n",
    "import pennylane as qml\n",
    "import pennylane.numpy as np\n",
    "from pennylane import qchem\n",
    "import chemistry as chem\n",
    "import autograd.numpy as anp"
   ]
  },
  {
   "cell_type": "code",
   "execution_count": 7,
   "metadata": {},
   "outputs": [],
   "source": [
    "# Basic information\n",
    "symbols = [\"Be\", \"H\", \"H\"]\n",
    "geometry = np.array([[0.0, 0.0, 0.0], [1.0, 0.0, 0.0], [-1.0, 0.0, 0.0]], requires_grad=True)\n",
    "electrons = 6\n",
    "orbitals = 7"
   ]
  },
  {
   "cell_type": "code",
   "execution_count": 9,
   "metadata": {},
   "outputs": [
    {
     "name": "stderr",
     "output_type": "stream",
     "text": [
      "/Users/jackceroni/Library/Python/3.9/lib/python/site-packages/autohf-0.0.1-py3.9.egg/autohf/hartreefock.py:209: RuntimeWarning: divide by zero encountered in true_divide\n"
     ]
    },
    {
     "data": {
      "text/plain": [
       "<Hamiltonian: terms=304, wires=[0, 1, 2, 3, 4, 5, 6, 7, 8, 9, 10, 11]>"
      ]
     },
     "execution_count": 9,
     "metadata": {},
     "output_type": "execute_result"
    }
   ],
   "source": [
    "# Defines the molecule and a parametrized molecular Hamiltonian\n",
    "mol = qml.hf.Molecule(symbols, geometry)\n",
    "core, active = qchem.active_space(electrons, orbitals, active_electrons=4, active_orbitals=6)\n",
    "\n",
    "vec = anp.array([1.0, 0.0, 0.0, 0.0, 0.0, 0.0, 0.0, 0.0, 0.0])\n",
    "tg.d_hamiltonian(mol, list(range(12)), core, active)(geometry.flatten(), vec)"
   ]
  },
  {
   "cell_type": "code",
   "execution_count": null,
   "metadata": {},
   "outputs": [],
   "source": []
  }
 ],
 "metadata": {
  "interpreter": {
   "hash": "aee8b7b246df8f9039afb4144a1f6fd8d2ca17a180786b69acc140d282b71a49"
  },
  "kernelspec": {
   "display_name": "Python 3.9.6 64-bit",
   "language": "python",
   "name": "python3"
  },
  "language_info": {
   "codemirror_mode": {
    "name": "ipython",
    "version": 3
   },
   "file_extension": ".py",
   "mimetype": "text/x-python",
   "name": "python",
   "nbconvert_exporter": "python",
   "pygments_lexer": "ipython3",
   "version": "3.9.6"
  },
  "orig_nbformat": 4
 },
 "nbformat": 4,
 "nbformat_minor": 2
}
