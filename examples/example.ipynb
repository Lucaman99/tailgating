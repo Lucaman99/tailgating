{
 "cells": [
  {
   "cell_type": "markdown",
   "metadata": {},
   "source": [
    "# Tailgating\n",
    "A numerical example, demonstrating the tailgating procedure in the case of computing derivatives of a molecular energy function with respect to some set of nuclear coordinates."
   ]
  },
  {
   "cell_type": "code",
   "execution_count": 1,
   "metadata": {},
   "outputs": [],
   "source": [
    "import tailgating as tg\n",
    "import pennylane as qml\n",
    "import pennylane.numpy as np\n",
    "from pennylane import qchem\n",
    "import scipy\n",
    "from tqdm.notebook import tqdm"
   ]
  },
  {
   "cell_type": "markdown",
   "metadata": {},
   "source": [
    "### Step 1. Performing ADAPT-VQE\n",
    "\n",
    "In this Notebook, we will attempt to compute a second derivative of the energy function corresponding to a BeH$_2$ molecule. We begin by declaring some basic information about the molecule:"
   ]
  },
  {
   "cell_type": "code",
   "execution_count": 2,
   "metadata": {},
   "outputs": [],
   "source": [
    "# Basic information\n",
    "symbols = [\"Be\", \"H\", \"H\"]\n",
    "geometry = tg.angs_bohr * np.array([[0.0000000000, 0.0000000000, 0.0000000000], [0.0000000000, -1.3164290143, 0.0000000000], [0.0000000000, 1.3164290143, 0.0000000000]])\n",
    "\n",
    "# Specifies the electrons and orbitals\n",
    "electrons, active_electrons = 6, 4\n",
    "orbitals, active_orbitals = 7, 6\n",
    "wires = list(range(2 * active_orbitals))\n",
    "\n",
    "# Defines the molecule and the active space\n",
    "mol = qml.hf.Molecule(symbols, geometry)\n",
    "core, active = qchem.active_space(electrons, orbitals, active_electrons=4, active_orbitals=6)"
   ]
  },
  {
   "cell_type": "markdown",
   "metadata": {},
   "source": [
    "We will compare calculations done with ADAPT-VQE, with and without the tailgating procedure, and demonstrate that the non-tailgated circuit yields inaccurate derivatives while those yielded from tailgating are highly accurate. The first step is to perform ADAPT-VQE, using a gate pool of single and double excitations:"
   ]
  },
  {
   "cell_type": "code",
   "execution_count": 3,
   "metadata": {},
   "outputs": [
    {
     "name": "stderr",
     "output_type": "stream",
     "text": [
      "/Users/jackceroni/Library/Python/3.9/lib/python/site-packages/PennyLane-0.21.0.dev0-py3.9.egg/pennylane/_grad.py:95: UserWarning: Starting with PennyLane v0.21.0, when using Autograd, inputs have to explicitly specify requires_grad=True (or the argnum argument must be passed) in order for trainable parameters to be identified.\n",
      "  warnings.warn(\n"
     ]
    },
    {
     "data": {
      "application/vnd.jupyter.widget-view+json": {
       "model_id": "d152c13474e64e7e856cad70b33c9642",
       "version_major": 2,
       "version_minor": 0
      },
      "text/plain": [
       "  0%|          | 0/100 [00:00<?, ?it/s]"
      ]
     },
     "metadata": {},
     "output_type": "display_data"
    },
    {
     "data": {
      "application/vnd.jupyter.widget-view+json": {
       "model_id": "a5853e2ddb7948eb86d6f9b91d1d0a68",
       "version_major": 2,
       "version_minor": 0
      },
      "text/plain": [
       "  0%|          | 0/100 [00:00<?, ?it/s]"
      ]
     },
     "metadata": {},
     "output_type": "display_data"
    },
    {
     "data": {
      "application/vnd.jupyter.widget-view+json": {
       "model_id": "a42d840e885740b4a70d513d555a9b18",
       "version_major": 2,
       "version_minor": 0
      },
      "text/plain": [
       "  0%|          | 0/100 [00:00<?, ?it/s]"
      ]
     },
     "metadata": {},
     "output_type": "display_data"
    },
    {
     "data": {
      "application/vnd.jupyter.widget-view+json": {
       "model_id": "f7d9ae9dd6ab4424a463afad7075db5c",
       "version_major": 2,
       "version_minor": 0
      },
      "text/plain": [
       "  0%|          | 0/100 [00:00<?, ?it/s]"
      ]
     },
     "metadata": {},
     "output_type": "display_data"
    },
    {
     "data": {
      "application/vnd.jupyter.widget-view+json": {
       "model_id": "671c3e99b5fc4a3ab27706387733e356",
       "version_major": 2,
       "version_minor": 0
      },
      "text/plain": [
       "  0%|          | 0/100 [00:00<?, ?it/s]"
      ]
     },
     "metadata": {},
     "output_type": "display_data"
    },
    {
     "data": {
      "application/vnd.jupyter.widget-view+json": {
       "model_id": "f76896c55cf54989a9e554b826ba0d90",
       "version_major": 2,
       "version_minor": 0
      },
      "text/plain": [
       "  0%|          | 0/100 [00:00<?, ?it/s]"
      ]
     },
     "metadata": {},
     "output_type": "display_data"
    },
    {
     "data": {
      "application/vnd.jupyter.widget-view+json": {
       "model_id": "c1fa54d70c9f423e8f12a9aeaad5edeb",
       "version_major": 2,
       "version_minor": 0
      },
      "text/plain": [
       "  0%|          | 0/100 [00:00<?, ?it/s]"
      ]
     },
     "metadata": {},
     "output_type": "display_data"
    },
    {
     "data": {
      "application/vnd.jupyter.widget-view+json": {
       "model_id": "815dc0dd2ce645368ebb55a9d59a6199",
       "version_major": 2,
       "version_minor": 0
      },
      "text/plain": [
       "  0%|          | 0/100 [00:00<?, ?it/s]"
      ]
     },
     "metadata": {},
     "output_type": "display_data"
    },
    {
     "data": {
      "application/vnd.jupyter.widget-view+json": {
       "model_id": "f0b7cab790324fcea5461042893fa5e4",
       "version_major": 2,
       "version_minor": 0
      },
      "text/plain": [
       "  0%|          | 0/100 [00:00<?, ?it/s]"
      ]
     },
     "metadata": {},
     "output_type": "display_data"
    },
    {
     "data": {
      "application/vnd.jupyter.widget-view+json": {
       "model_id": "f7393a40b9de403da55369edd72008bf",
       "version_major": 2,
       "version_minor": 0
      },
      "text/plain": [
       "  0%|          | 0/100 [00:00<?, ?it/s]"
      ]
     },
     "metadata": {},
     "output_type": "display_data"
    },
    {
     "data": {
      "application/vnd.jupyter.widget-view+json": {
       "model_id": "12d70a82f9f0420e990fa8f859a42cb3",
       "version_major": 2,
       "version_minor": 0
      },
      "text/plain": [
       "  0%|          | 0/100 [00:00<?, ?it/s]"
      ]
     },
     "metadata": {},
     "output_type": "display_data"
    },
    {
     "data": {
      "application/vnd.jupyter.widget-view+json": {
       "model_id": "ed68d47177854191ae3300506369e349",
       "version_major": 2,
       "version_minor": 0
      },
      "text/plain": [
       "  0%|          | 0/100 [00:00<?, ?it/s]"
      ]
     },
     "metadata": {},
     "output_type": "display_data"
    },
    {
     "data": {
      "application/vnd.jupyter.widget-view+json": {
       "model_id": "986cb00b90cc4fd9bf6f7ab84d9a05a8",
       "version_major": 2,
       "version_minor": 0
      },
      "text/plain": [
       "  0%|          | 0/100 [00:00<?, ?it/s]"
      ]
     },
     "metadata": {},
     "output_type": "display_data"
    },
    {
     "data": {
      "application/vnd.jupyter.widget-view+json": {
       "model_id": "068851915c9b431a96f9cd3021861a4c",
       "version_major": 2,
       "version_minor": 0
      },
      "text/plain": [
       "  0%|          | 0/100 [00:00<?, ?it/s]"
      ]
     },
     "metadata": {},
     "output_type": "display_data"
    },
    {
     "data": {
      "application/vnd.jupyter.widget-view+json": {
       "model_id": "f3e240d41a6442d2bf51c31236b7f854",
       "version_major": 2,
       "version_minor": 0
      },
      "text/plain": [
       "  0%|          | 0/100 [00:00<?, ?it/s]"
      ]
     },
     "metadata": {},
     "output_type": "display_data"
    },
    {
     "data": {
      "application/vnd.jupyter.widget-view+json": {
       "model_id": "f9a9805e9e3c4bedbb37b94cbf59529e",
       "version_major": 2,
       "version_minor": 0
      },
      "text/plain": [
       "  0%|          | 0/100 [00:00<?, ?it/s]"
      ]
     },
     "metadata": {},
     "output_type": "display_data"
    },
    {
     "data": {
      "application/vnd.jupyter.widget-view+json": {
       "model_id": "477c0b2a03b64e71afda08f1322ee549",
       "version_major": 2,
       "version_minor": 0
      },
      "text/plain": [
       "  0%|          | 0/100 [00:00<?, ?it/s]"
      ]
     },
     "metadata": {},
     "output_type": "display_data"
    },
    {
     "data": {
      "application/vnd.jupyter.widget-view+json": {
       "model_id": "d593118930834b97b8c320839b4837d2",
       "version_major": 2,
       "version_minor": 0
      },
      "text/plain": [
       "  0%|          | 0/100 [00:00<?, ?it/s]"
      ]
     },
     "metadata": {},
     "output_type": "display_data"
    },
    {
     "data": {
      "application/vnd.jupyter.widget-view+json": {
       "model_id": "9ee5a6a6e701492a83f2df5e60105ecc",
       "version_major": 2,
       "version_minor": 0
      },
      "text/plain": [
       "  0%|          | 0/100 [00:00<?, ?it/s]"
      ]
     },
     "metadata": {},
     "output_type": "display_data"
    },
    {
     "data": {
      "application/vnd.jupyter.widget-view+json": {
       "model_id": "d3e1a006653e4f869e4a69f796523de8",
       "version_major": 2,
       "version_minor": 0
      },
      "text/plain": [
       "  0%|          | 0/100 [00:00<?, ?it/s]"
      ]
     },
     "metadata": {},
     "output_type": "display_data"
    }
   ],
   "source": [
    "# Generates the gate pool to use for ADAPT-VQE\n",
    "gate_pool = tg.gate_pool(active_electrons, active_orbitals)\n",
    "\n",
    "# Generates the sparse molecular Hamiltonian (used in the VQE simulations)\n",
    "H = tg.hamiltonian_sparse(mol, wires, core, active)(geometry.flatten())\n",
    "\n",
    "# Other information: the device, Hartree-Fock state, optimizer, and numbers of optimization steps\n",
    "dev = qml.device('default.qubit', wires=wires)\n",
    "hf_state = qchem.hf_state(active_electrons, 2 * active_orbitals)\n",
    "optimizer = qml.GradientDescentOptimizer(stepsize=0.1)\n",
    "max_steps, vqe_steps = 20, 100\n",
    "\n",
    "# Performs the original ADAPT-VQE procedure\n",
    "original_seq, original_params = tg.adapt_vqe(H, dev, gate_pool, hf_state, optimizer, max_steps, vqe_steps, bar=True)"
   ]
  },
  {
   "cell_type": "markdown",
   "metadata": {},
   "source": [
    "Since we are working with a simulator, we have direct access to the state vector, and can determine how close it is to the true ground state:"
   ]
  },
  {
   "cell_type": "code",
   "execution_count": 5,
   "metadata": {},
   "outputs": [
    {
     "name": "stdout",
     "output_type": "stream",
     "text": [
      "0.9998451336687443\n"
     ]
    }
   ],
   "source": [
    "# Circuit yielded from ADAPT-VQE\n",
    "def circuit(params):\n",
    "    qml.BasisState(hf_state, wires=wires)\n",
    "    for p, gate in zip(params, original_seq):\n",
    "        gate(p)\n",
    "\n",
    "# State vector yielded from ADAPT-VQE circuit\n",
    "state = tg.compute_state(circuit, dev, original_params)\n",
    "\n",
    "# Returns the dot product between the true ground state of H and the prepared ground state\n",
    "print(abs(np.dot(scipy.sparse.linalg.eigs(H.matrix)[1].T[0], state)))"
   ]
  },
  {
   "cell_type": "markdown",
   "metadata": {},
   "source": [
    "As can be seen, the magnitude of the dot product is very close to one, implying that the prepared state is very close to the true ground state. However, as we will soon demonstrate, this does not necessarily mean that our circuit will yield accurate energy derivatives."
   ]
  },
  {
   "cell_type": "markdown",
   "metadata": {},
   "source": [
    "### Step 2. Computing the energy derivative with the non-tailgated circuit"
   ]
  },
  {
   "cell_type": "markdown",
   "metadata": {},
   "source": [
    "The next step is to calculate the second-order energy derivative using the non-tailgated circuit. Recall that the formula for such a derivative is given by:\n",
    "\n",
    "$$\n",
    "\\frac{\\partial^2 E_k(\\textbf{R})}{\\partial R_i \\partial R_j} = \\displaystyle\\sum_{a} \\Big[ \\frac{\\partial \\boldsymbol\\theta^{k}_a(\\textbf{R})}{\\partial R_i} \\frac{\\partial}{\\partial \\theta_a} \\frac{\\partial E_k(\\textbf{R})}{\\partial R_j} \\Big] + \\Big\\langle \\psi_{k}(\\boldsymbol\\theta^{k}(\\textbf{R})) \\Big| \\frac{\\partial^2 H(\\textbf{R})}{\\partial R_i \\partial R_j} \\Big| \\psi_{k}(\\boldsymbol\\theta^{k}(\\textbf{R})) \\Big\\rangle\n",
    "$$\n",
    "\n",
    "where $|\\psi_k(\\theta)\\rangle = U_k(\\theta) |0\\rangle$ is a variational ansatz which is used to prepare the $k$-th excited state, and $\\boldsymbol{\\theta}^k(\\textbf{R})$ are the variational parameters of $U_k(\\theta)$ which prepare the $k$-th energy eigenstate at coordinates $\\textbf{R}$. In addition, by Feynman-Hellmann theorem, we have\n",
    "\n",
    "$$\n",
    "\\frac{\\partial E_k(\\textbf{R})}{\\partial R_j} = \\Big\\langle \\psi_k( \\boldsymbol\\theta^{k}(\\textbf{R})) \\Big| \\frac{\\partial H(\\textbf{R})}{\\partial R_j} \\Big| \\psi_k(\\boldsymbol\\theta^{k}(\\textbf{R})) \\Big\\rangle\n",
    "$$\n",
    "\n",
    "Finally, we can determine the derivatives of the optimal parameters $\\boldsymbol{\\theta}^{k}$ with the response equation:\n",
    "\n",
    "$$\n",
    "\\displaystyle\\sum_{a} \\frac{\\partial}{\\partial \\theta_b} \\frac{\\partial E_k(\\textbf{R})}{\\partial \\theta_a} \\frac{\\partial \\boldsymbol{\\theta}^{k}_a(\\textbf{R})}{\\partial R_i} = -\\frac{\\partial}{\\partial \\theta_b} \\frac{\\partial E_k(\\textbf{R})}{\\partial R_i}\n",
    "$$\n",
    "\n",
    "We begin by computing the first derivatives of the molecular Hamiltonian:"
   ]
  },
  {
   "cell_type": "code",
   "execution_count": 6,
   "metadata": {},
   "outputs": [
    {
     "data": {
      "application/vnd.jupyter.widget-view+json": {
       "model_id": "78fc8ec0750e469e9cd8b28e6e6eabca",
       "version_major": 2,
       "version_minor": 0
      },
      "text/plain": [
       "  0%|          | 0/9 [00:00<?, ?it/s]"
      ]
     },
     "metadata": {},
     "output_type": "display_data"
    },
    {
     "name": "stderr",
     "output_type": "stream",
     "text": [
      "/Users/jackceroni/Library/Python/3.9/lib/python/site-packages/autohf-0.0.1-py3.9.egg/autohf/hartreefock.py:209: RuntimeWarning: divide by zero encountered in true_divide\n"
     ]
    }
   ],
   "source": [
    "# Generates first and second derivatives of the Hamiltonian\n",
    "H1 = tg.generate_d_hamiltonian(mol, wires, core, active)(geometry.flatten())"
   ]
  },
  {
   "cell_type": "markdown",
   "metadata": {},
   "source": [
    "Next, we compute the matrix of second derivatives (with respect to variational parameters) of the energy function:"
   ]
  },
  {
   "cell_type": "code",
   "execution_count": 53,
   "metadata": {
    "tags": []
   },
   "outputs": [
    {
     "data": {
      "application/vnd.jupyter.widget-view+json": {
       "model_id": "27aefe5511ef4f8e8112410c757dc929",
       "version_major": 2,
       "version_minor": 0
      },
      "text/plain": [
       "  0%|          | 0/20 [00:00<?, ?it/s]"
      ]
     },
     "metadata": {},
     "output_type": "display_data"
    }
   ],
   "source": [
    "# Non-sparse Hamiltonian for computing second derivatives\n",
    "h_new = tg.hamiltonian(mol, wires, core, active)(geometry.flatten())\n",
    "\n",
    "# Energy function\n",
    "@qml.qnode(dev)\n",
    "def energy_fn(params):\n",
    "    circuit(params)\n",
    "    return qml.expval(h_new)\n",
    "\n",
    "# Parameter Hessian\n",
    "hessian = compute_parameter_hessian(energy_fn, np.array(original_params), bar=True)"
   ]
  },
  {
   "cell_type": "markdown",
   "metadata": {},
   "source": [
    "Finally, we can compute the second derivative of the Hamiltonian, and the desired energy derivative. In particular, we will compute $\\frac{\\partial E}{\\partial R_1^2}$, where $R_1$ is the $y$-coordinate of the Be atom:"
   ]
  },
  {
   "cell_type": "code",
   "execution_count": 54,
   "metadata": {},
   "outputs": [
    {
     "data": {
      "application/vnd.jupyter.widget-view+json": {
       "model_id": "eb601c5e90d04b98b1c124a91e4a595d",
       "version_major": 2,
       "version_minor": 0
      },
      "text/plain": [
       "  0%|          | 0/9 [00:00<?, ?it/s]"
      ]
     },
     "metadata": {},
     "output_type": "display_data"
    },
    {
     "data": {
      "application/vnd.jupyter.widget-view+json": {
       "model_id": "88884b30368e4b9c99ac8f3f10ca4498",
       "version_major": 2,
       "version_minor": 0
      },
      "text/plain": [
       "  0%|          | 0/9 [00:00<?, ?it/s]"
      ]
     },
     "metadata": {},
     "output_type": "display_data"
    }
   ],
   "source": [
    "# Hamiltonian second derivative\n",
    "vec = np.array([0.0, 1.0, 0.0, 0.0, 0.0, 0.0, 0.0, 0.0, 0.0])\n",
    "H2 = tg.dd_hamiltonian(mol, wires, core, active)(geometry.flatten(), vec, vec)\n",
    "\n",
    "# Energy derivative\n",
    "energy_derivative = tg.compute_second_derivative([1, 1], H1, H2, hessian, circuit, dev, original_params, diff_method=\"best\")"
   ]
  },
  {
   "cell_type": "markdown",
   "metadata": {},
   "source": [
    "The value of the energy derivative is then:"
   ]
  },
  {
   "cell_type": "code",
   "execution_count": 55,
   "metadata": {},
   "outputs": [
    {
     "name": "stdout",
     "output_type": "stream",
     "text": [
      "Energy derivative = 1.6190857047649865\n"
     ]
    }
   ],
   "source": [
    "print(\"Energy derivative = {}\".format(energy_derivative))"
   ]
  },
  {
   "cell_type": "markdown",
   "metadata": {},
   "source": [
    "This is quite different from the value 0.411577257 predicted by GAMESS (software for performing quantum chemistry calculations with classical methods). "
   ]
  },
  {
   "cell_type": "markdown",
   "metadata": {},
   "source": [
    "### Step 3. Performing tailgated ADAPT-VQE"
   ]
  },
  {
   "cell_type": "markdown",
   "metadata": {},
   "source": [
    "We will now demonstrate that tailgating yields the correct derivative. Taking into account symmetry of the molecule, we will only tailgate with respect to derivatives of the Be atom along the $x$-axis, and the top hydrogen atom along the $x$ and $y$-axes."
   ]
  },
  {
   "cell_type": "code",
   "execution_count": 56,
   "metadata": {},
   "outputs": [
    {
     "data": {
      "application/vnd.jupyter.widget-view+json": {
       "model_id": "69ec6377c25d4af281bce151195b75b2",
       "version_major": 2,
       "version_minor": 0
      },
      "text/plain": [
       "  0%|          | 0/92 [00:00<?, ?it/s]"
      ]
     },
     "metadata": {},
     "output_type": "display_data"
    },
    {
     "data": {
      "application/vnd.jupyter.widget-view+json": {
       "model_id": "a5ec8aa98c6247ba9376bec93db08378",
       "version_major": 2,
       "version_minor": 0
      },
      "text/plain": [
       "  0%|          | 0/92 [00:00<?, ?it/s]"
      ]
     },
     "metadata": {},
     "output_type": "display_data"
    },
    {
     "data": {
      "application/vnd.jupyter.widget-view+json": {
       "model_id": "9df0861f10094a3c9360d235dfcafa58",
       "version_major": 2,
       "version_minor": 0
      },
      "text/plain": [
       "  0%|          | 0/92 [00:00<?, ?it/s]"
      ]
     },
     "metadata": {},
     "output_type": "display_data"
    }
   ],
   "source": [
    "# Performs the tailgating procedure\n",
    "hamiltonians = [H1[0], H1[3], H1[4]]\n",
    "\n",
    "# A method for tailgating a circuit\n",
    "def tailgate(dH, dev, circuit, operator_pool, params, tol=1e-6):\n",
    "    \"\"\"Performs the tail-gating procedure\"\"\"\n",
    "    gates = []\n",
    "    bar = tqdm(operator_pool)\n",
    "\n",
    "    for op in bar:\n",
    "        @qml.qnode(dev)\n",
    "        def cost_fn(param):\n",
    "            circuit(params)\n",
    "            op(param)\n",
    "            return qml.expval(dH)\n",
    "        if abs(qml.grad(cost_fn)(0.0)) > tol:\n",
    "            gates.append(op)\n",
    "    return gates\n",
    "\n",
    "# Gates added to the circuit through tailgating\n",
    "added_gates = []\n",
    "for dh in hamiltonians:\n",
    "    gates = tailgate(dh, dev, circuit, gate_pool, original_params)\n",
    "    added_gates.extend(gates)\n",
    "\n",
    "added_gates = set(added_gates)"
   ]
  },
  {
   "cell_type": "markdown",
   "metadata": {},
   "source": [
    "Now, we can construct a new, tailgated circuit:"
   ]
  },
  {
   "cell_type": "code",
   "execution_count": 57,
   "metadata": {},
   "outputs": [],
   "source": [
    "# Creates the new gate pool\n",
    "new_seq = original_seq + list(added_gates)\n",
    "new_params = original_params + [0.0 for _ in range(len(added_gates))]\n",
    "\n",
    "# Circuit yielded from tailgating\n",
    "def new_circuit(params):\n",
    "    qml.BasisState(hf_state, wires=wires)\n",
    "    for p, gate in zip(params, new_seq):\n",
    "        gate(p)"
   ]
  },
  {
   "cell_type": "markdown",
   "metadata": {},
   "source": [
    "Once again, we compute the desired energy derivative:"
   ]
  },
  {
   "cell_type": "code",
   "execution_count": 58,
   "metadata": {},
   "outputs": [
    {
     "data": {
      "application/vnd.jupyter.widget-view+json": {
       "model_id": "284dd79cc62a46a280c71db86fcba963",
       "version_major": 2,
       "version_minor": 0
      },
      "text/plain": [
       "  0%|          | 0/66 [00:00<?, ?it/s]"
      ]
     },
     "metadata": {},
     "output_type": "display_data"
    }
   ],
   "source": [
    "# Energy function\n",
    "@qml.qnode(dev)\n",
    "def new_energy_fn(params):\n",
    "    new_circuit(params)\n",
    "    return qml.expval(h_new)\n",
    "\n",
    "# Parameter Hessian\n",
    "new_hessian = compute_parameter_hessian(new_energy_fn, np.array(new_params), bar=True)"
   ]
  },
  {
   "cell_type": "code",
   "execution_count": 59,
   "metadata": {},
   "outputs": [
    {
     "data": {
      "application/vnd.jupyter.widget-view+json": {
       "model_id": "ae0be383f14d47d1886a9a21defad39d",
       "version_major": 2,
       "version_minor": 0
      },
      "text/plain": [
       "  0%|          | 0/9 [00:00<?, ?it/s]"
      ]
     },
     "metadata": {},
     "output_type": "display_data"
    },
    {
     "data": {
      "application/vnd.jupyter.widget-view+json": {
       "model_id": "c0a5c36ae53147e6b6f1621ec1e9493b",
       "version_major": 2,
       "version_minor": 0
      },
      "text/plain": [
       "  0%|          | 0/9 [00:00<?, ?it/s]"
      ]
     },
     "metadata": {},
     "output_type": "display_data"
    }
   ],
   "source": [
    "# Energy derivative\n",
    "new_energy_derivative = tg.compute_second_derivative([1, 1], H1, H2, new_hessian, new_circuit, dev, new_params, diff_method=\"best\")"
   ]
  },
  {
   "cell_type": "markdown",
   "metadata": {},
   "source": [
    "which gives us the following value:"
   ]
  },
  {
   "cell_type": "code",
   "execution_count": 60,
   "metadata": {},
   "outputs": [
    {
     "name": "stdout",
     "output_type": "stream",
     "text": [
      "Energy derivative = 0.4113317834975785\n"
     ]
    }
   ],
   "source": [
    "print(\"Energy derivative = {}\".format(new_energy_derivative))"
   ]
  },
  {
   "cell_type": "markdown",
   "metadata": {},
   "source": [
    "Much better! Our answer agrees with GAMESS to three decimal places!"
   ]
  }
 ],
 "metadata": {
  "interpreter": {
   "hash": "aee8b7b246df8f9039afb4144a1f6fd8d2ca17a180786b69acc140d282b71a49"
  },
  "kernelspec": {
   "display_name": "Python 3 (ipykernel)",
   "language": "python",
   "name": "python3"
  },
  "language_info": {
   "codemirror_mode": {
    "name": "ipython",
    "version": 3
   },
   "file_extension": ".py",
   "mimetype": "text/x-python",
   "name": "python",
   "nbconvert_exporter": "python",
   "pygments_lexer": "ipython3",
   "version": "3.9.6"
  }
 },
 "nbformat": 4,
 "nbformat_minor": 4
}
